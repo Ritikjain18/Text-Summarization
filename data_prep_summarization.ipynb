{
 "cells": [
  {
   "cell_type": "code",
   "execution_count": 8,
   "metadata": {},
   "outputs": [],
   "source": [
    "import numpy as np\n",
    "import pandas as pd\n",
    "import os\n",
    "from os import listdir"
   ]
  },
  {
   "cell_type": "code",
   "execution_count": 2,
   "metadata": {},
   "outputs": [],
   "source": [
    "def load_doc(filename):\n",
    "    file=open(filename,encoding='utf-8')\n",
    "    text=file.read()\n",
    "    file.close()\n",
    "    return text"
   ]
  },
  {
   "cell_type": "code",
   "execution_count": 3,
   "metadata": {},
   "outputs": [],
   "source": [
    "def load_stories(directory):\n",
    "    for name in listdir(directory):\n",
    "        filename=directory+'/'+name\n",
    "        doc=load_doc(filename)"
   ]
  },
  {
   "cell_type": "code",
   "execution_count": 4,
   "metadata": {},
   "outputs": [],
   "source": [
    "def split_story(doc):\n",
    "    index=doc.find('@highlight')\n",
    "    story,highlights=doc[:index],doc[index:].split('@highlight')\n",
    "    highlights=[h.strip()for h in highlights if len(h)>0]\n",
    "    return story,highlights"
   ]
  },
  {
   "cell_type": "code",
   "execution_count": 14,
   "metadata": {},
   "outputs": [],
   "source": [
    "def load_stories(directory):\n",
    "    stories=list()\n",
    "    for name in listdir(directory):\n",
    "        filename=directory+'/'+ name\n",
    "        doc=load_doc(filename)\n",
    "        story,highlights=split_story(doc)\n",
    "        stories.append({'story':story,'highlights':highlights})\n",
    "    return stories"
   ]
  },
  {
   "cell_type": "code",
   "execution_count": 15,
   "metadata": {},
   "outputs": [
    {
     "name": "stdout",
     "output_type": "stream",
     "text": [
      "loaded stories %d\n"
     ]
    }
   ],
   "source": [
    "directory='data/dailymail_stories/dailymail/stories/'\n",
    "stories=load_stories(directory)"
   ]
  },
  {
   "cell_type": "code",
   "execution_count": 20,
   "metadata": {},
   "outputs": [
    {
     "name": "stdout",
     "output_type": "stream",
     "text": [
      "loaded stories 219506\n"
     ]
    }
   ],
   "source": [
    "print('loaded stories %d'%len(stories))"
   ]
  },
  {
   "cell_type": "code",
   "execution_count": 23,
   "metadata": {},
   "outputs": [
    {
     "name": "stdout",
     "output_type": "stream",
     "text": [
      "By \n",
      "Helen Pow\n",
      "\n",
      "PUBLISHED:\n",
      "\n",
      "09:16 EST, 29 May 2013\n",
      "\n",
      "\n",
      "| \n",
      "\n",
      "UPDATED:\n",
      "\n",
      "10:51 EST, 29 May 2013\n",
      "\n",
      "Miami Heat superstar LeBron James gave a touching tribute to one of his biggest fans last night - wearing her name on his sneakers just hours after she lost a grueling six-year battle with cancer.\n",
      "\n",
      "Bella Rodriguez-Torres, 10, loved nothing more than watching the Heat play basketball with her family. But she passed away yesterday after fighting the disease for more than half her young life.\n",
      "\n",
      "Bella was diagnosed with an aggressive form of cancer at age four, and astounded doctors when she recovered from the illness - something her parents deemed a miracle.\n",
      "\n",
      "But last year, her tumors returned, and, despite putting up another fierce fight, her condition deteriorated and she slipped away peacefully surrounded by family and friends.\n",
      "\n",
      "SCROLL DOWN FOR VIDEO\n",
      "\n",
      "Brave battle: Bella Rodriguez-Torres, pictured left and right, died on Tuesday after a six year battle with cancer\n",
      "\n",
      "Family: Bella Rodriguez-Torres, pictured bottom left in happy times with her father Raymond, mother Shannah and little sister, bottom right, Rayna, was diagnosed with cancer aged four\n",
      "\n",
      "'Bella didn't lose her battle with cancer but instead won the reward of an eternal life,' her mother, Shannah, told CBS4.\n",
      "\n",
      "Bella's parents, Raymond and Shannah, and Bella's younger \n",
      "sister, Rayna, coined the phrase 'Live Like Bella' during her extensive \n",
      "and grueling chemotherapy sessions.\n",
      "\n",
      "And at\n",
      "Tuesday night's Miami Heat Vs Pacers game, LeBron James and Dwyane Wade\n",
      "wore shoes with #LiveLikeBella written on them in honor of the brave \n",
      "Heat fan.\n",
      "\n",
      "'(Dwyane) came to me with the story today, it was a no-brainer,' James said on Tuesday, according to Yahoo Sport. 'It's sad. It puts everything in perspective. At the end of the day, this game is just basketball. Two great teams, we're competing. But it's just basketball. \n",
      "\n",
      "'You have a little girl, or any kid that loses her life over an illness. It's very sad. It's very sad... what happened to Bella puts everything in perspective.'\n",
      "\n",
      "Strong: The little girl loved to watch the Heat play, and copy her idol, LeBron, right,\n",
      "\n",
      "Heat fan: Basketball star LeBron James wore sneakers, pictured, with Bell's name on them on Tuesday night in the little Heat fan's honor\n",
      "\n",
      "Shannah and Bella's father, Raymond, broke the sad news on their daughter's Facebook page, which has more than 62,000 followers.\n",
      "\n",
      "Quoting the bible, they wrote: 'When \n",
      "he had received the drink, Jesus said, \"It is finished.\" With that, he \n",
      "bowed his head and gave up his spirit.'\n",
      "\n",
      "Before adding: 'Bella has now joined Jesus in heaven. She went peacefully, surrounded by love...'\n",
      "\n",
      "Bella was a happy, bubbly toddler who loved Sponge Bob Square Pants and playing with Lego.\n",
      "\n",
      "But\n",
      "in 2007, at the tender age of just four, she became paralyzed from a \n",
      "tumor on her spine and was diagnosed with stage four Alveolar \n",
      "Rhabdomyosarcoma.\n",
      "\n",
      "She\n",
      "was thrown into a life of chemotherapy - 54 weeks of it - radiation - \n",
      "16 weeks - and surgery as doctors battled to rid her little body tumors \n",
      "in more than seven sites.\n",
      "\n",
      "But rid they did. And soon she was in remission.\n",
      "\n",
      "'I am able to walk, run and jump again!' her parents exclaimed for her on her website at the time.\n",
      "\n",
      "Five times over: Bella had made news for fighting cancer five times in the course of her short life\n",
      "\n",
      "Close: Bella Rodriguez-Torres' family, pictured with her, were by her side throughout her grueling battle\n",
      "\n",
      "But\n",
      "the dogged illness returned in April 2009, when doctors found a tumor \n",
      "in her brain and she underwent full brain radiation plus more \n",
      "chemotherapy.\n",
      "\n",
      "She won again, however, and was in remission until \n",
      "September 2011, when the cancer attacked her ovary.\n",
      "\n",
      "The following January, three new tumors were discovered in her abdomen and she had further treatment. But just a month later, four tumors were found in her pelvis and by January 2013, despite undergoing chemotherapy again, doctors found the tumors had grown.\n",
      "\n",
      "The seriousness of her condition led doctors to recommend intensive surgery, and in March, Bella traveled from Miami to Houston to have a 16 hour surgery to remove the tumors, her uterus, her ovaries and to have her entire abdomen washed in hot chemo.\n",
      "\n",
      "Though despite those treatments, Bella's organs began failing.\n",
      "\n",
      "Her kidney and lung functions were greatly affected and her bone marrow was exhausted plus ultrasounds of Bella's lungs showed new disease had appeared on the lining.\n",
      "\n",
      "Tributes: Tributes are piling in for Bella who inspired many with her courage\n",
      "\n",
      "Hospice: Bella, pictured, had been under hospice care since the beginning of May\n",
      "\n",
      "At the start of May, her parents made the difficult decision to stop treatment and she entered a hospice.\n",
      "\n",
      "'There are few words that can describe what it feels like to have to make a decision of this magnitude. While it has been painstaking to decide to no longer fight and now just ensure her comfort, we are at peace,' her mother told CBS4 earlier this month.\n",
      "\n",
      "Through-out her six-year battle, her parents have chronicled her progress, and the high highs and extremely low lows have been followed by thousands around the world. Many well-wishers have donated money to help pay for her care and prayed for the brave little girl and her family.\n",
      "\n",
      "And that's what her heartbroken parents asked for most of all on Tuesday.\n",
      "\n",
      "'Please pray for us now for the strength and peace to continue to #LIVELIKEBELLA,' they said.\n",
      "\n",
      "Click here to donate to Bella's charity fund.\n",
      "\n",
      "\n"
     ]
    }
   ],
   "source": [
    "print(stories[3]['story'])"
   ]
  },
  {
   "cell_type": "code",
   "execution_count": 24,
   "metadata": {},
   "outputs": [
    {
     "name": "stdout",
     "output_type": "stream",
     "text": [
      "['Bella Rodriguez-Torres was diagnosed with stage four Alveolar \\nRhabdomyosarcoma at age four', 'The brave 10-year-old fought the illness but it came back four times', 'Her parents chronicled her countless chemotherapy and radiation treatments on Facebook with over 62,000 followers and on her website', 'She passed away peacefully on Tuesday surrounded by family and friends', \"At Tuesday night's Miami Heat Vs Pacers game, LeBron James wrote #LiveLikeBella on his sneakers in honor of the young fan\"]\n"
     ]
    }
   ],
   "source": [
    "print(stories[3]['highlights'])"
   ]
  },
  {
   "cell_type": "code",
   "execution_count": 30,
   "metadata": {},
   "outputs": [
    {
     "name": "stdout",
     "output_type": "stream",
     "text": [
      "By\n",
      "Sarah Griffiths for MailOnline\n",
      "\n",
      "Early modern humans had already developed distinct cultural traditions before they left North Africa.\n",
      "\n",
      "Researchers carried out the largest ever comparative study of stone tools  between 130,000 and 75,000 years old to shed new light on our ancestors.\n",
      "\n",
      "The tools, discovered in the region between sub-Saharan Africa and Eurasia,  were made in different ways, reflecting a diversity of cultural traditions.\n",
      "\n",
      "Researchers carried out the largest ever comparative study of stone tools dating between 130,000 and 75,000 years old to shed new light on our ancestors. A collection of prehistoric tools are pictured\n",
      "\n",
      "A new study also identified at least four distinct populations, each relatively isolated from each other with their own different cultural characteristics.\n",
      "\n",
      "It also suggests that early populations took advantage of rivers and lakes that criss-crossed the Saharan desert.\n",
      "\n",
      "A climate model coupled with data about these ancient rivers was matched with the new findings on stone tools to reveal that populations connected by rivers had similarities in their cultures.\n",
      "\n",
      "This could be the earliest evidence of different populations ‘budding’ across the Sahara, using the rivers to disperse and meet people from other populations, according to the paper published in the journal, Quaternary Science Reviews.\n",
      "\n",
      "Researchers from the University of Oxford, Kings College London and the University of Bordeaux took over 300,000 measurements of stone tools from 17 archaeological sites across North Africa.\n",
      "\n",
      "They combined the data about the tools with the environmental model for the first time, which showed that the Sahara was then a patchwork of savannah, grasslands and water, interspersed with desert.\n",
      "\n",
      "The new study also identified at least four distinct populations, each relatively isolated from each other with their own different cultural characteristics. It also suggests that early populations took advantage of rivers and lakes that criss-crossed the Saharan desert. An artist's impression of early humans is pictured\n",
      "\n",
      " The study supports other recent theories that modern humans may have first successfully left Africa earlier than 60,000-50,000 years ago, Dr Eleanor Scerri said.\n",
      "\n",
      "Dr Huw Groucutt, from the School of Archaeology at the University of Oxford, said: ‘The question of whether there was an early successful exit from Africa has become one of whether any of the populations discovered in this paper went in and out of Africa for some or all of this time.\n",
      "\n",
      "A crucial next step involves fieldwork in areas such as the Arabian Peninsula to understand how these populations spread into Eurasia.’\n",
      "\n",
      "Ongoing fieldwork seeking to do just that is making ‘remarkable discoveries’ in the deserts of Arabia, which may also have been the region where both Neanderthal and Homo sapiens populations might have interacted, he explained.\n",
      "\n",
      "The team also mapped out known ancient rivers and major lakes so they could piece together where populations made and used their tools, according to the study, which is published in the journal Quaternary Science Reviews.\n",
      "\n",
      "The results show, for the first time, how early populations of modern humans dispersed across the Sahara before forming small populations by the rivers.\n",
      "\n",
      "‘This is the first time that scientists have identified that early modern humans at the cusp of dispersal out of Africa were grouped in separate, isolated and local populations,’ Dr Eleanor Scerri, visiting scholar at the University of Oxford and lead author of the study said.\n",
      "\n",
      "‘Stone tools are the only form of preserved material culture for most of human history. In Africa, owing to the hot climate, ancient DNA has not yet been found.\n",
      "\n",
      "‘These stone tools reveal how early populations of modern humans dispersed across the Sahara just before they left North Africa. While different populations were relatively isolated, we were interested to find that when connected by rivers, they share similarities in their tool-making suggesting some interaction with one another.’\n",
      "\n",
      "The researchers used a variety of tests in order to rule that tools from different areas were culturally distinct simply because of differences in raw materials.\n",
      "\n",
      "The tools, discovered in the region between sub-Saharan Africa and Eurasia -  including the desert (marked on the map) - were made in different ways, reflecting a diversity of cultural traditions\n",
      "\n",
      "The study looking at different types of tools, has for the first time shown how early populations of modern humans dispersed across the Sahara before forming small populations by the rivers\n",
      "\n",
      "Dr Scerri said: ‘Not much is known about the structure of early modern human populations in Africa, particularly at the time of their earliest dispersals into Eurasia.\n",
      "\n",
      "‘Our picture of modern human demography around 100,000 years ago is that there were a number of populations, varying in size and degree of genetic contact, distributed over a wide geographical area.\n",
      "\n",
      "‘This model of our population history supports other theories recently put forward that modern humans may have first successfully left Africa earlier than 60,000-50,000 years ago, which had been the common view among scholars.\n",
      "\n",
      "‘Our work provides important new evidence that sheds light on both the timing of early modern human dispersals out of Africa and the character of our interaction with other human species, such as Neanderthals.’\n",
      "\n",
      " \n",
      "\n",
      "\n"
     ]
    }
   ],
   "source": [
    "print(stories[6]['story'])"
   ]
  },
  {
   "cell_type": "code",
   "execution_count": 31,
   "metadata": {},
   "outputs": [
    {
     "name": "stdout",
     "output_type": "stream",
     "text": [
      "['Researchers carried out the largest ever comparative study of stone tools dating between 130,000 and 75,000 years old', 'Tools discovered in the region between sub-Saharan Africa and Eurasia were made in different ways, suggesting a diversity of cultural traditions', 'Study identified four distinct populations with different characteristics', \"Research\\xa0could\\xa0be the earliest evidence of different populations 'budding' across\\xa0the Sahara, using rivers to disperse\"]\n"
     ]
    }
   ],
   "source": [
    "print(stories[6]['highlights'])"
   ]
  },
  {
   "cell_type": "code",
   "execution_count": 32,
   "metadata": {},
   "outputs": [],
   "source": [
    "def clean_lines(lines):\n",
    "    cleaned=list()\n",
    "    table=str.maketrans('','',string.punctuation)\n",
    "    for line in lines:\n",
    "        line=line.split()\n",
    "        line=[word.lower() for word in line]\n",
    "        line=[w.translate(table) for w in line]\n",
    "        line=[word for word in line if word.isalpha()]\n",
    "        cleaned.append(' '.join(line))\n",
    "        \n",
    "    cleaned=[c for c in cleaned if len(c)>0]\n",
    "    return cleaned"
   ]
  },
  {
   "cell_type": "code",
   "execution_count": 33,
   "metadata": {},
   "outputs": [],
   "source": [
    "for example in stories:\n",
    "    example['story']=clean_lines(example['story'].split('\\n'))\n",
    "    example['highlights']=clean_lines(example['highlights'])"
   ]
  },
  {
   "cell_type": "code",
   "execution_count": 34,
   "metadata": {},
   "outputs": [],
   "source": [
    "from pickle import dump\n",
    "dump(stories,open('cnn_dataset.pkl','wb'))"
   ]
  },
  {
   "cell_type": "code",
   "execution_count": 37,
   "metadata": {},
   "outputs": [
    {
     "name": "stdout",
     "output_type": "stream",
     "text": [
      "loaded stories 219506\n"
     ]
    }
   ],
   "source": [
    "from pickle import load\n",
    "stories=load(open('cnn_dataset.pkl','rb'))\n",
    "print('loaded stories %d'%len(stories))"
   ]
  },
  {
   "cell_type": "code",
   "execution_count": 40,
   "metadata": {},
   "outputs": [
    {
     "data": {
      "text/plain": [
       "['researchers carried out the largest ever comparative study of stone tools dating between and years old',\n",
       " 'tools discovered in the region between subsaharan africa and eurasia were made in different ways suggesting a diversity of cultural traditions',\n",
       " 'study identified four distinct populations with different characteristics',\n",
       " 'research could be the earliest evidence of different populations budding across the sahara using rivers to disperse']"
      ]
     },
     "execution_count": 40,
     "metadata": {},
     "output_type": "execute_result"
    }
   ],
   "source": [
    "stories[6]['story']\n",
    "stories[6]['highlights']"
   ]
  },
  {
   "cell_type": "code",
   "execution_count": null,
   "metadata": {},
   "outputs": [],
   "source": []
  },
  {
   "cell_type": "code",
   "execution_count": null,
   "metadata": {},
   "outputs": [],
   "source": []
  },
  {
   "cell_type": "code",
   "execution_count": null,
   "metadata": {},
   "outputs": [],
   "source": []
  }
 ],
 "metadata": {
  "kernelspec": {
   "display_name": "Python 3",
   "language": "python",
   "name": "python3"
  },
  "language_info": {
   "codemirror_mode": {
    "name": "ipython",
    "version": 3
   },
   "file_extension": ".py",
   "mimetype": "text/x-python",
   "name": "python",
   "nbconvert_exporter": "python",
   "pygments_lexer": "ipython3",
   "version": "3.7.3"
  }
 },
 "nbformat": 4,
 "nbformat_minor": 2
}
